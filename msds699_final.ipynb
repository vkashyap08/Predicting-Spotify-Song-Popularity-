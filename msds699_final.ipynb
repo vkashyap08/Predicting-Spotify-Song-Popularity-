{
 "cells": [
  {
   "cell_type": "code",
   "execution_count": 1,
   "id": "backed-idaho",
   "metadata": {
    "ExecuteTime": {
     "end_time": "2021-03-08T18:45:46.046391Z",
     "start_time": "2021-03-08T18:45:45.045625Z"
    }
   },
   "outputs": [],
   "source": [
    "import numpy as np\n",
    "import pandas as pd\n",
    "from sklearn.model_selection import train_test_split\n",
    "from sklearn.tree import DecisionTreeRegressor\n",
    "from sklearn.ensemble import RandomForestRegressor\n",
    "from sklearn.pipeline import Pipeline\n",
    "from sklearn.preprocessing import StandardScaler\n",
    "from sklearn.impute import SimpleImputer\n",
    "from sklearn.compose import ColumnTransformer\n",
    "from sklearn.preprocessing import OneHotEncoder\n",
    "from sklearn.base import BaseEstimator\n",
    "from sklearn.linear_model import LinearRegression\n",
    "from sklearn.model_selection import RandomizedSearchCV\n",
    "from sklearn.metrics import mean_squared_error\n",
    "from sklearn.metrics import mean_absolute_error"
   ]
  },
  {
   "cell_type": "markdown",
   "id": "extreme-reservation",
   "metadata": {},
   "source": [
    "## Loading The Data "
   ]
  },
  {
   "cell_type": "markdown",
   "id": "local-gambling",
   "metadata": {},
   "source": [
    "- Dropping column \"id\" as it can be used to explicitly identify the sample. \n",
    "- Dropping column \"name\" as there are several non-ascii characters, plus this column would not really contribute to predicting popularity since it is simply the name of the song. \n",
    "- Dropping column \"release-date\" because column \"year\" is a cleaned up version of the same data.\n",
    "- Choosing data released in 2018 onwards to reduce the massive size of the dataset. I'm also more interested in recent music. "
   ]
  },
  {
   "cell_type": "code",
   "execution_count": 2,
   "id": "acting-floor",
   "metadata": {
    "ExecuteTime": {
     "end_time": "2021-03-08T18:45:48.760839Z",
     "start_time": "2021-03-08T18:45:48.205693Z"
    }
   },
   "outputs": [],
   "source": [
    "csv_url = 'https://raw.githubusercontent.com/vkashyap08/Predicting-Spotify-Song-Popularity-/main/data.csv'\n",
    "original = pd.read_csv(csv_url)"
   ]
  },
  {
   "cell_type": "code",
   "execution_count": 3,
   "id": "conventional-likelihood",
   "metadata": {
    "ExecuteTime": {
     "end_time": "2021-03-08T18:45:50.224410Z",
     "start_time": "2021-03-08T18:45:50.190119Z"
    }
   },
   "outputs": [],
   "source": [
    "data = original.drop([\"id\", \"release_date\", 'name'], axis=1)\n",
    "data = data[(data['year']>2018)]"
   ]
  },
  {
   "cell_type": "markdown",
   "id": "heard-qatar",
   "metadata": {},
   "source": [
    "## Dividing feature columns into categorical and numerical for encoding"
   ]
  },
  {
   "cell_type": "code",
   "execution_count": 4,
   "id": "whole-nowhere",
   "metadata": {
    "ExecuteTime": {
     "end_time": "2021-03-08T18:45:54.692987Z",
     "start_time": "2021-03-08T18:45:54.688075Z"
    }
   },
   "outputs": [],
   "source": [
    "categorical_columns = ['artists']\n",
    "numerical_columns = ['acousticness', 'danceability', 'duration_ms', 'energy', \n",
    "                     'explicit', 'instrumentalness', 'key',\n",
    "                     'liveness', 'loudness', 'mode', 'speechiness', 'tempo', 'valence', 'year']\n",
    "\n",
    "X = data[categorical_columns + numerical_columns]\n",
    "y = data[\"popularity\"]\n",
    "y = y.values.ravel()"
   ]
  },
  {
   "cell_type": "markdown",
   "id": "sunset-china",
   "metadata": {},
   "source": [
    "## 80/20 Train-Test split and 80/20 Train-Validation split"
   ]
  },
  {
   "cell_type": "code",
   "execution_count": 5,
   "id": "amended-classics",
   "metadata": {
    "ExecuteTime": {
     "end_time": "2021-03-08T18:45:57.082641Z",
     "start_time": "2021-03-08T18:45:57.073690Z"
    }
   },
   "outputs": [],
   "source": [
    "# splitting into train and test\n",
    "X_train, X_test, y_train, y_test = train_test_split(X, y, test_size= 0.2)\n",
    "\n",
    "# splitting train into train and validation \n",
    "X_train, X_validation, y_train, y_validation = train_test_split(X_train, y_train, test_size= 0.2)"
   ]
  },
  {
   "cell_type": "markdown",
   "id": "buried-christopher",
   "metadata": {},
   "source": [
    "## Creating Initial Pipe with Dummy Estimator"
   ]
  },
  {
   "cell_type": "markdown",
   "id": "local-injection",
   "metadata": {},
   "source": [
    "I ran the one categorical column \"artists\" through OneHotEncoder so that a float value could be assigned to each artist name. I ran the numerical columns through SimpleImputer so that any missing values would be fit with the mean."
   ]
  },
  {
   "cell_type": "code",
   "execution_count": 6,
   "id": "dental-scout",
   "metadata": {
    "ExecuteTime": {
     "end_time": "2021-03-08T18:45:59.521339Z",
     "start_time": "2021-03-08T18:45:59.518842Z"
    }
   },
   "outputs": [],
   "source": [
    "class DummyEstimator(BaseEstimator):\n",
    "    \"Pass through class, methods are present but do nothing.\"\n",
    "    def fit(self): pass\n",
    "    def score(self): pass"
   ]
  },
  {
   "cell_type": "code",
   "execution_count": 7,
   "id": "cognitive-console",
   "metadata": {
    "ExecuteTime": {
     "end_time": "2021-03-08T18:46:01.501581Z",
     "start_time": "2021-03-08T18:46:01.498063Z"
    }
   },
   "outputs": [],
   "source": [
    "pipe = Pipeline([\n",
    "    ('preprocess', ColumnTransformer([('cat', OneHotEncoder(handle_unknown='ignore'), categorical_columns),\n",
    "                                      ('num', SimpleImputer(strategy='mean'), numerical_columns)])),\n",
    "    ('scaler', StandardScaler(with_mean=False)),\n",
    "    ('clf', DummyEstimator())\n",
    "])"
   ]
  },
  {
   "cell_type": "markdown",
   "id": "vital-intensity",
   "metadata": {},
   "source": [
    "## Randomized Search CV to Hypertune Parameters"
   ]
  },
  {
   "cell_type": "markdown",
   "id": "attractive-latter",
   "metadata": {},
   "source": [
    "I chose to focus on Random Forest Regressor, Decision Tree Regressor, and a basic Linear Regression since the goal is to develop a model that predicts the popularity (measured on a scale of 1 to 100) of a track on Spotify, which is a regression problem. I chose a relatively big range for n_estimators for Random Forest to increase the chance of a good accuracy. Through this randomized cross validation search, I'll hopefully be able to find the best model that will give me the lowest evaluation metrics.  "
   ]
  },
  {
   "cell_type": "code",
   "execution_count": 8,
   "id": "cross-fitting",
   "metadata": {
    "ExecuteTime": {
     "end_time": "2021-03-08T18:47:06.384774Z",
     "start_time": "2021-03-08T18:46:07.301725Z"
    }
   },
   "outputs": [
    {
     "name": "stdout",
     "output_type": "stream",
     "text": [
      "Fitting 3 folds for each of 50 candidates, totalling 150 fits\n"
     ]
    },
    {
     "name": "stderr",
     "output_type": "stream",
     "text": [
      "[Parallel(n_jobs=-1)]: Using backend LokyBackend with 8 concurrent workers.\n",
      "[Parallel(n_jobs=-1)]: Done  34 tasks      | elapsed:    8.7s\n",
      "[Parallel(n_jobs=-1)]: Done 150 out of 150 | elapsed:   37.6s finished\n"
     ]
    }
   ],
   "source": [
    "search_space = [{'clf': [RandomForestRegressor()], \n",
    "                 'clf__n_estimators': range(1,100),\n",
    "                 'clf__max_features': ['sqrt', 'log2', 'auto'],\n",
    "                 'clf__min_samples_leaf': range(1,6),\n",
    "                 'clf__min_samples_split': range(1,6)},\n",
    "        \n",
    "                {'clf': [DecisionTreeRegressor()],\n",
    "                 'clf__max_depth': range(1,10),\n",
    "                 'clf__max_features': [None, 'sqrt', 'auto', 'log2', 0.3, 0.5, 0.7],\n",
    "                 'clf__min_samples_leaf': range(1,6),\n",
    "                 'clf__criterion': [\"gini\", \"entropy\"]},\n",
    "                \n",
    "                {'clf': [LinearRegression()]}]\n",
    "\n",
    "# Random Search\n",
    "random_search = RandomizedSearchCV(estimator=pipe, \n",
    "                                    param_distributions=search_space, \n",
    "                                    n_iter=50,\n",
    "                                    cv=3, \n",
    "                                    n_jobs=-1,\n",
    "                                    verbose=1)\n",
    "#  Fit grid search\n",
    "best_model = random_search.fit(X_train, y_train)"
   ]
  },
  {
   "cell_type": "code",
   "execution_count": 9,
   "id": "accessible-cisco",
   "metadata": {
    "ExecuteTime": {
     "end_time": "2021-03-08T18:47:12.573495Z",
     "start_time": "2021-03-08T18:47:12.560755Z"
    }
   },
   "outputs": [
    {
     "data": {
      "text/plain": [
       "RandomForestRegressor(min_samples_split=3, n_estimators=99)"
      ]
     },
     "execution_count": 9,
     "metadata": {},
     "output_type": "execute_result"
    }
   ],
   "source": [
    "best_model.best_estimator_.get_params()['clf']"
   ]
  },
  {
   "cell_type": "markdown",
   "id": "declared-extreme",
   "metadata": {},
   "source": [
    "Randomized Search CV said that the hyperparams I should hypertune are:\n",
    "- n_estimators=99\n",
    "- min_samples_split=3"
   ]
  },
  {
   "cell_type": "markdown",
   "id": "sweet-treasury",
   "metadata": {},
   "source": [
    "### Random Forest Default Hyperparameters"
   ]
  },
  {
   "cell_type": "code",
   "execution_count": 10,
   "id": "academic-allergy",
   "metadata": {
    "ExecuteTime": {
     "end_time": "2021-03-08T18:47:18.972973Z",
     "start_time": "2021-03-08T18:47:18.965872Z"
    }
   },
   "outputs": [
    {
     "data": {
      "text/plain": [
       "{'bootstrap': True,\n",
       " 'ccp_alpha': 0.0,\n",
       " 'criterion': 'mse',\n",
       " 'max_depth': None,\n",
       " 'max_features': 'auto',\n",
       " 'max_leaf_nodes': None,\n",
       " 'max_samples': None,\n",
       " 'min_impurity_decrease': 0.0,\n",
       " 'min_impurity_split': None,\n",
       " 'min_samples_leaf': 1,\n",
       " 'min_samples_split': 2,\n",
       " 'min_weight_fraction_leaf': 0.0,\n",
       " 'n_estimators': 100,\n",
       " 'n_jobs': None,\n",
       " 'oob_score': False,\n",
       " 'random_state': None,\n",
       " 'verbose': 0,\n",
       " 'warm_start': False}"
      ]
     },
     "execution_count": 10,
     "metadata": {},
     "output_type": "execute_result"
    }
   ],
   "source": [
    "rf = RandomForestRegressor()\n",
    "rf.get_params()"
   ]
  },
  {
   "cell_type": "markdown",
   "id": "extraordinary-enhancement",
   "metadata": {},
   "source": [
    "## Final Tuned Hyperparameters List"
   ]
  },
  {
   "cell_type": "code",
   "execution_count": 11,
   "id": "remarkable-relaxation",
   "metadata": {
    "ExecuteTime": {
     "end_time": "2021-03-08T18:47:50.924172Z",
     "start_time": "2021-03-08T18:47:50.919016Z"
    }
   },
   "outputs": [],
   "source": [
    "hyperparameters = {\n",
    " 'bootstrap': True,\n",
    " 'ccp_alpha': 0.0,\n",
    " 'criterion': 'mse',\n",
    " 'max_depth': None,\n",
    " 'max_features': 'auto',\n",
    " 'max_leaf_nodes': None,\n",
    " 'max_samples': None,\n",
    " 'min_impurity_decrease': 0.0,\n",
    " 'min_impurity_split': None,\n",
    " 'min_samples_leaf': 1,\n",
    " 'min_samples_split': 3, # changed\n",
    " 'min_weight_fraction_leaf': 0.0,\n",
    " 'n_estimators': 99, # changed\n",
    " 'n_jobs': None,\n",
    " 'oob_score': False,\n",
    " 'random_state': None,\n",
    " 'verbose': 0,\n",
    " 'warm_start': False}"
   ]
  },
  {
   "cell_type": "markdown",
   "id": "blocked-hepatitis",
   "metadata": {},
   "source": [
    "## Fitting Final Model"
   ]
  },
  {
   "cell_type": "code",
   "execution_count": 12,
   "id": "composed-district",
   "metadata": {
    "ExecuteTime": {
     "end_time": "2021-03-08T18:48:15.556351Z",
     "start_time": "2021-03-08T18:47:53.990613Z"
    }
   },
   "outputs": [
    {
     "data": {
      "text/plain": [
       "Pipeline(steps=[('preprocess',\n",
       "                 ColumnTransformer(transformers=[('cat',\n",
       "                                                  OneHotEncoder(handle_unknown='ignore'),\n",
       "                                                  ['artists']),\n",
       "                                                 ('num', SimpleImputer(),\n",
       "                                                  ['acousticness',\n",
       "                                                   'danceability',\n",
       "                                                   'duration_ms', 'energy',\n",
       "                                                   'explicit',\n",
       "                                                   'instrumentalness', 'key',\n",
       "                                                   'liveness', 'loudness',\n",
       "                                                   'mode', 'speechiness',\n",
       "                                                   'tempo', 'valence',\n",
       "                                                   'year'])])),\n",
       "                ('scaler', StandardScaler(with_mean=False)),\n",
       "                ('classifier',\n",
       "                 RandomForestRegressor(min_samples_split=3, n_estimators=99))])"
      ]
     },
     "execution_count": 12,
     "metadata": {},
     "output_type": "execute_result"
    }
   ],
   "source": [
    "pipe = Pipeline([\n",
    "    ('preprocess', ColumnTransformer([('cat', OneHotEncoder(handle_unknown='ignore'), categorical_columns),\n",
    "                                      ('num', SimpleImputer(strategy='mean'), numerical_columns)])),\n",
    "    ('scaler', StandardScaler(with_mean=False)),\n",
    "    ('classifier', RandomForestRegressor(**hyperparameters))\n",
    "])\n",
    "pipe.fit(X_train, y_train)"
   ]
  },
  {
   "cell_type": "markdown",
   "id": "powered-median",
   "metadata": {},
   "source": [
    "## Evaluation Metrics for Model Accuracy"
   ]
  },
  {
   "cell_type": "markdown",
   "id": "consecutive-mountain",
   "metadata": {},
   "source": [
    "- RF train/test accuracy\n",
    "- MSE (Mean Squared Error)\n",
    "- MAE (Mean Absolute Error)\n",
    "\n",
    "A combination of these 3 metrics will clearly tell me whether my model accurately predicted the popularity of each song. MAE measures the absolute average distance between the real data and the predicted data but fails to punish large errors in prediction. MSE measures the squared average distance between the real data and the predicted data and takes into account larger errors. Although it's hard to compare the two, I would ideally have low numbers for both. I did not choose metrics such as precision score, AUC, and F1 as they are for classification and this is a regression problem."
   ]
  },
  {
   "cell_type": "markdown",
   "id": "other-instrumentation",
   "metadata": {},
   "source": [
    "### RF Accuracy for Train, Validation, Test"
   ]
  },
  {
   "cell_type": "code",
   "execution_count": 13,
   "id": "contemporary-specific",
   "metadata": {
    "ExecuteTime": {
     "end_time": "2021-03-08T18:48:21.099136Z",
     "start_time": "2021-03-08T18:48:20.871291Z"
    }
   },
   "outputs": [
    {
     "name": "stdout",
     "output_type": "stream",
     "text": [
      "RF train accuracy: 0.947\n",
      "RF validation accuracy: 0.601\n",
      "RF test accuracy: 0.644\n"
     ]
    }
   ],
   "source": [
    "print(\"RF train accuracy: %0.3f\" % pipe.score(X_train, y_train))\n",
    "print(\"RF validation accuracy: %0.3f\" % pipe.score(X_validation, y_validation))\n",
    "print(\"RF test accuracy: %0.3f\" % pipe.score(X_test, y_test))"
   ]
  },
  {
   "cell_type": "markdown",
   "id": "quarterly-cancer",
   "metadata": {},
   "source": [
    "### MSE and MAE for Validation"
   ]
  },
  {
   "cell_type": "code",
   "execution_count": 14,
   "id": "dirty-baptist",
   "metadata": {
    "ExecuteTime": {
     "end_time": "2021-03-08T18:48:26.586390Z",
     "start_time": "2021-03-08T18:48:26.529914Z"
    }
   },
   "outputs": [
    {
     "name": "stdout",
     "output_type": "stream",
     "text": [
      "Mean squared error: 350.55\n",
      "Mean absolute error: 10.60\n"
     ]
    }
   ],
   "source": [
    "y_pred_val = pipe.predict(X_validation)\n",
    "mse = mean_squared_error(y_validation, y_pred_val)\n",
    "mae = mean_absolute_error(y_validation, y_pred_val)\n",
    "print(f\"Mean squared error: {mse:,.2f}\")\n",
    "print(f\"Mean absolute error: {mae:,.2f}\")"
   ]
  },
  {
   "cell_type": "markdown",
   "id": "standing-words",
   "metadata": {},
   "source": [
    "### MSE and MAE for Test"
   ]
  },
  {
   "cell_type": "code",
   "execution_count": 15,
   "id": "surface-apparatus",
   "metadata": {
    "ExecuteTime": {
     "end_time": "2021-03-08T18:48:29.173381Z",
     "start_time": "2021-03-08T18:48:29.103863Z"
    }
   },
   "outputs": [
    {
     "name": "stdout",
     "output_type": "stream",
     "text": [
      "Mean squared error: 334.14\n",
      "Mean absolute error: 10.65\n"
     ]
    }
   ],
   "source": [
    "y_pred_test = pipe.predict(X_test)\n",
    "mse = mean_squared_error(y_test, y_pred_test)\n",
    "mae = mean_absolute_error(y_test, y_pred_test)\n",
    "print(f\"Mean squared error: {mse:,.2f}\")\n",
    "print(f\"Mean absolute error: {mae:,.2f}\")"
   ]
  },
  {
   "cell_type": "markdown",
   "id": "helpful-burst",
   "metadata": {},
   "source": [
    "The train accuracy is high and leads me to believe the data has been overfit on the training dataset since the test accuracy is much lower than I would have predicted. Below is a dataframe I created which puts the actual y_test values and the predicted y_pred values side by side to compare. We can see that for example rows 1, 3, and 4 are pretty similar."
   ]
  },
  {
   "cell_type": "code",
   "execution_count": 16,
   "id": "acquired-music",
   "metadata": {
    "ExecuteTime": {
     "end_time": "2021-03-08T18:48:36.335206Z",
     "start_time": "2021-03-08T18:48:36.319736Z"
    }
   },
   "outputs": [
    {
     "data": {
      "text/html": [
       "<div>\n",
       "<style scoped>\n",
       "    .dataframe tbody tr th:only-of-type {\n",
       "        vertical-align: middle;\n",
       "    }\n",
       "\n",
       "    .dataframe tbody tr th {\n",
       "        vertical-align: top;\n",
       "    }\n",
       "\n",
       "    .dataframe thead th {\n",
       "        text-align: right;\n",
       "    }\n",
       "</style>\n",
       "<table border=\"1\" class=\"dataframe\">\n",
       "  <thead>\n",
       "    <tr style=\"text-align: right;\">\n",
       "      <th></th>\n",
       "      <th>y_test</th>\n",
       "      <th>y_pred</th>\n",
       "    </tr>\n",
       "  </thead>\n",
       "  <tbody>\n",
       "    <tr>\n",
       "      <th>0</th>\n",
       "      <td>68</td>\n",
       "      <td>46.240019</td>\n",
       "    </tr>\n",
       "    <tr>\n",
       "      <th>1</th>\n",
       "      <td>33</td>\n",
       "      <td>31.092761</td>\n",
       "    </tr>\n",
       "    <tr>\n",
       "      <th>2</th>\n",
       "      <td>9</td>\n",
       "      <td>1.080808</td>\n",
       "    </tr>\n",
       "    <tr>\n",
       "      <th>3</th>\n",
       "      <td>1</td>\n",
       "      <td>3.515404</td>\n",
       "    </tr>\n",
       "    <tr>\n",
       "      <th>4</th>\n",
       "      <td>0</td>\n",
       "      <td>0.000000</td>\n",
       "    </tr>\n",
       "  </tbody>\n",
       "</table>\n",
       "</div>"
      ],
      "text/plain": [
       "   y_test     y_pred\n",
       "0      68  46.240019\n",
       "1      33  31.092761\n",
       "2       9   1.080808\n",
       "3       1   3.515404\n",
       "4       0   0.000000"
      ]
     },
     "execution_count": 16,
     "metadata": {},
     "output_type": "execute_result"
    }
   ],
   "source": [
    "df = pd.DataFrame({'y_test':y_test, 'y_pred':y_pred_test})\n",
    "df.head()"
   ]
  },
  {
   "cell_type": "markdown",
   "id": "satisfied-superior",
   "metadata": {},
   "source": [
    "## Quick Comparison with default Random Forest, default Decision Tree, and default Linear Regression"
   ]
  },
  {
   "cell_type": "markdown",
   "id": "worldwide-layer",
   "metadata": {},
   "source": [
    "### Default Random Forest"
   ]
  },
  {
   "cell_type": "code",
   "execution_count": 17,
   "id": "psychological-mechanics",
   "metadata": {
    "ExecuteTime": {
     "end_time": "2021-03-08T18:49:23.718794Z",
     "start_time": "2021-03-08T18:49:01.024412Z"
    }
   },
   "outputs": [
    {
     "name": "stdout",
     "output_type": "stream",
     "text": [
      "Mean squared error: 327.94\n",
      "Mean absolute error: 10.57\n"
     ]
    }
   ],
   "source": [
    "pipe = Pipeline([\n",
    "    ('preprocess', ColumnTransformer([('cat', OneHotEncoder(handle_unknown='ignore'), categorical_columns),\n",
    "                                      ('num', SimpleImputer(strategy='mean'), numerical_columns)])),\n",
    "    ('scaler', StandardScaler(with_mean=False)),\n",
    "    ('rf', RandomForestRegressor()),])\n",
    "pipe.fit(X_train, y_train)\n",
    "y_pred_rf = pipe.predict(X_test)\n",
    "mse = mean_squared_error(y_test, y_pred_rf)\n",
    "mae = mean_absolute_error(y_test, y_pred_rf)\n",
    "print(f\"Mean squared error: {mse:,.2f}\")\n",
    "print(f\"Mean absolute error: {mae:,.2f}\")"
   ]
  },
  {
   "cell_type": "markdown",
   "id": "nasty-eugene",
   "metadata": {},
   "source": [
    "### Default Decision Tree"
   ]
  },
  {
   "cell_type": "code",
   "execution_count": 18,
   "id": "hired-glenn",
   "metadata": {
    "ExecuteTime": {
     "end_time": "2021-03-08T18:49:41.293915Z",
     "start_time": "2021-03-08T18:49:40.888489Z"
    }
   },
   "outputs": [
    {
     "name": "stdout",
     "output_type": "stream",
     "text": [
      "Mean squared error: 571.64\n",
      "Mean absolute error: 11.38\n"
     ]
    }
   ],
   "source": [
    "pipe = Pipeline([\n",
    "    ('preprocess', ColumnTransformer([('cat', OneHotEncoder(handle_unknown='ignore'), categorical_columns),\n",
    "                                      ('num', SimpleImputer(strategy='mean'), numerical_columns)])),\n",
    "    ('scaler', StandardScaler(with_mean=False)),\n",
    "    ('dt', DecisionTreeRegressor())])\n",
    "pipe.fit(X_train, y_train)\n",
    "y_pred_dt = pipe.predict(X_test)\n",
    "mse = mean_squared_error(y_test, y_pred_dt)\n",
    "mae = mean_absolute_error(y_test, y_pred_dt)\n",
    "print(f\"Mean squared error: {mse:,.2f}\")\n",
    "print(f\"Mean absolute error: {mae:,.2f}\")"
   ]
  },
  {
   "cell_type": "markdown",
   "id": "published-bernard",
   "metadata": {},
   "source": [
    "### Default Linear Regression"
   ]
  },
  {
   "cell_type": "code",
   "execution_count": 19,
   "id": "concrete-defendant",
   "metadata": {
    "ExecuteTime": {
     "end_time": "2021-03-08T18:49:43.653478Z",
     "start_time": "2021-03-08T18:49:43.593544Z"
    }
   },
   "outputs": [
    {
     "name": "stdout",
     "output_type": "stream",
     "text": [
      "Mean squared error: 420.46\n",
      "Mean absolute error: 12.63\n"
     ]
    }
   ],
   "source": [
    "pipe = Pipeline([\n",
    "    ('preprocess', ColumnTransformer([('cat', OneHotEncoder(handle_unknown='ignore'), categorical_columns),\n",
    "                                      ('num', SimpleImputer(strategy='mean'), numerical_columns)])),\n",
    "    ('scaler', StandardScaler(with_mean=False)),\n",
    "    ('lr', LinearRegression())])\n",
    "pipe.fit(X_train, y_train)\n",
    "y_pred_lr = pipe.predict(X_test)\n",
    "mse = mean_squared_error(y_test, y_pred_lr)\n",
    "mae = mean_absolute_error(y_test, y_pred_lr)\n",
    "print(f\"Mean squared error: {mse:,.2f}\")\n",
    "print(f\"Mean absolute error: {mae:,.2f}\")"
   ]
  },
  {
   "cell_type": "markdown",
   "id": "remarkable-newark",
   "metadata": {},
   "source": [
    "## Chart Detailing Evaluation Metrics of all Models"
   ]
  },
  {
   "cell_type": "code",
   "execution_count": 20,
   "id": "academic-moderator",
   "metadata": {
    "ExecuteTime": {
     "end_time": "2021-03-08T18:52:06.837508Z",
     "start_time": "2021-03-08T18:52:06.824818Z"
    }
   },
   "outputs": [
    {
     "data": {
      "text/html": [
       "<div>\n",
       "<style scoped>\n",
       "    .dataframe tbody tr th:only-of-type {\n",
       "        vertical-align: middle;\n",
       "    }\n",
       "\n",
       "    .dataframe tbody tr th {\n",
       "        vertical-align: top;\n",
       "    }\n",
       "\n",
       "    .dataframe thead th {\n",
       "        text-align: right;\n",
       "    }\n",
       "</style>\n",
       "<table border=\"1\" class=\"dataframe\">\n",
       "  <thead>\n",
       "    <tr style=\"text-align: right;\">\n",
       "      <th></th>\n",
       "      <th>Model</th>\n",
       "      <th>MAE</th>\n",
       "      <th>MSE</th>\n",
       "    </tr>\n",
       "  </thead>\n",
       "  <tbody>\n",
       "    <tr>\n",
       "      <th>0</th>\n",
       "      <td>Tuned Random Forest</td>\n",
       "      <td>10.65</td>\n",
       "      <td>334.14</td>\n",
       "    </tr>\n",
       "    <tr>\n",
       "      <th>1</th>\n",
       "      <td>Default Random Forest</td>\n",
       "      <td>10.57</td>\n",
       "      <td>327.94</td>\n",
       "    </tr>\n",
       "    <tr>\n",
       "      <th>2</th>\n",
       "      <td>Default Decision Tree</td>\n",
       "      <td>11.38</td>\n",
       "      <td>571.64</td>\n",
       "    </tr>\n",
       "    <tr>\n",
       "      <th>3</th>\n",
       "      <td>Default Linear Regression</td>\n",
       "      <td>12.63</td>\n",
       "      <td>420.46</td>\n",
       "    </tr>\n",
       "  </tbody>\n",
       "</table>\n",
       "</div>"
      ],
      "text/plain": [
       "                       Model    MAE     MSE\n",
       "0        Tuned Random Forest  10.65  334.14\n",
       "1      Default Random Forest  10.57  327.94\n",
       "2      Default Decision Tree  11.38  571.64\n",
       "3  Default Linear Regression  12.63  420.46"
      ]
     },
     "execution_count": 20,
     "metadata": {},
     "output_type": "execute_result"
    }
   ],
   "source": [
    "mae_df = pd.DataFrame(np.array([['Tuned Random Forest', '10.65', '334.14'], \n",
    "                                ['Default Random Forest', '10.57', '327.94'], \n",
    "                                ['Default Decision Tree', '11.38', '571.64'],\n",
    "                                ['Default Linear Regression', '12.63', '420.46']]),\n",
    "                   columns=['Model', 'MAE', 'MSE'])\n",
    "mae_df"
   ]
  },
  {
   "cell_type": "markdown",
   "id": "located-screening",
   "metadata": {},
   "source": [
    "We can see from the above that surprisingly the default Random Forest actually performed the best with both a lower MSE and lower MAE, followed by tuned Random Forest, default Linear Regression as third, and default Decision Tree Regressor in last place. Overall, the MAEs were smaller than I expected which is great, but the MSEs were pretty large in general (not so great). The fact that default RF performed the best shows that a Random Forest model is very versatile for different kinds of data. "
   ]
  },
  {
   "cell_type": "markdown",
   "id": "capital-metadata",
   "metadata": {},
   "source": [
    "## Summary"
   ]
  },
  {
   "cell_type": "markdown",
   "id": "threaded-criterion",
   "metadata": {},
   "source": [
    "In summary, my evaluation metrics unfortunately were much higher than I hoped. I do not think this model is very useful. One thing I would change would be to do a more robust Randomized Search or Grid Search that would include more variety in models and more parameter options for each mode. Additionally, I believe further EDA was needed in order to really lock down which features were truly important to the prediction of popularity, rather than using almost all the columns in the dataset. In a future iteration of this project, I would use the \"permutation importance\" sklearn package first to choose the best features for my model. It would also be interesting to see how feature importance changed over the years. Using features such as \"danceability\", \"energy\", etc to predict a song's popularity could also be crucial to creating a more personalized user experience for music streaming giants like Spotify and Pandora. "
   ]
  },
  {
   "cell_type": "markdown",
   "id": "genetic-survey",
   "metadata": {},
   "source": [
    "## Citations\n",
    "\n",
    "https://www.kaggle.com/yamaerenay/spotify-dataset-19212020-160k-tracks\n",
    "\n",
    "https://scikit-learn.org/stable/auto_examples//inspection/plot_permutation_importance.html"
   ]
  }
 ],
 "metadata": {
  "kernelspec": {
   "display_name": "Python 3",
   "language": "python",
   "name": "python3"
  },
  "language_info": {
   "codemirror_mode": {
    "name": "ipython",
    "version": 3
   },
   "file_extension": ".py",
   "mimetype": "text/x-python",
   "name": "python",
   "nbconvert_exporter": "python",
   "pygments_lexer": "ipython3",
   "version": "3.8.5"
  }
 },
 "nbformat": 4,
 "nbformat_minor": 5
}
